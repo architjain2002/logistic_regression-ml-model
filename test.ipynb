{
 "cells": [
  {
   "cell_type": "code",
   "execution_count": 208,
   "source": [
    "# importing the libraries\r\n",
    "import numpy as np\r\n",
    "import matplotlib.pyplot as mtp\r\n",
    "import pandas as pd"
   ],
   "outputs": [],
   "metadata": {}
  },
  {
   "cell_type": "code",
   "execution_count": 209,
   "source": [
    "#importing the dataset\r\n",
    "dataset = pd.read_csv(\"../../../dataset/Data.csv\")"
   ],
   "outputs": [],
   "metadata": {}
  },
  {
   "cell_type": "code",
   "execution_count": 210,
   "source": [
    "X = dataset.iloc[:,1:3].values  \r\n",
    "Y = dataset.iloc[:,3].values"
   ],
   "outputs": [],
   "metadata": {}
  },
  {
   "cell_type": "code",
   "execution_count": 211,
   "source": [
    "from sklearn.impute import SimpleImputer\r\n",
    "Imputer = SimpleImputer(missing_values = np.nan,strategy ='mean')\r\n",
    "Imputer = Imputer.fit(X)\r\n",
    "X= Imputer.transform(X)"
   ],
   "outputs": [],
   "metadata": {}
  },
  {
   "cell_type": "code",
   "execution_count": 212,
   "source": [
    "X"
   ],
   "outputs": [
    {
     "output_type": "execute_result",
     "data": {
      "text/plain": [
       "array([[4.40000000e+01, 7.20000000e+04],\n",
       "       [2.70000000e+01, 4.80000000e+04],\n",
       "       [3.00000000e+01, 5.40000000e+04],\n",
       "       [3.80000000e+01, 6.10000000e+04],\n",
       "       [4.00000000e+01, 6.37777778e+04],\n",
       "       [3.50000000e+01, 5.80000000e+04],\n",
       "       [3.87777778e+01, 5.20000000e+04],\n",
       "       [4.80000000e+01, 7.90000000e+04],\n",
       "       [5.00000000e+01, 8.30000000e+04],\n",
       "       [3.70000000e+01, 6.70000000e+04]])"
      ]
     },
     "metadata": {},
     "execution_count": 212
    }
   ],
   "metadata": {}
  },
  {
   "cell_type": "code",
   "execution_count": 213,
   "source": [
    "# # now encoding the data as dummy variables:\r\n",
    "# from sklearn.preprocessing import LabelEncoder ,OneHotEncoder\r\n",
    "# LabelEncoder_X = LabelEncoder()\r\n",
    "# X[:,0] = LabelEncoder_X.fit_transform(X[:,0])\r\n",
    "\r\n",
    "# # as we need to distuingish each of them and give no other variable any kind of significance like\r\n",
    "# # in the case of country variable\r\n",
    "# from sklearn.compose import ColumnTransformer\r\n",
    "# ct = ColumnTransformer([(\"Country\", OneHotEncoder(), [0])], remainder = 'passthrough')\r\n",
    "# X = ct.fit_transform(X)\r\n",
    "# X"
   ],
   "outputs": [],
   "metadata": {}
  },
  {
   "cell_type": "code",
   "execution_count": 214,
   "source": [
    "LabelEncoder_Y= LabelEncoder()\r\n",
    "Y= LabelEncoder_Y.fit_transform(Y)\r\n",
    "Y"
   ],
   "outputs": [
    {
     "output_type": "execute_result",
     "data": {
      "text/plain": [
       "array([0, 1, 0, 0, 1, 1, 0, 1, 0, 1])"
      ]
     },
     "metadata": {},
     "execution_count": 214
    }
   ],
   "metadata": {}
  },
  {
   "cell_type": "code",
   "execution_count": 215,
   "source": [
    "from sklearn.model_selection import train_test_split\r\n",
    "X_train,X_test,Y_train,Y_test = train_test_split(X,Y,test_size=0.1,random_state=0)\r\n",
    "from sklearn.preprocessing import StandardScaler\r\n",
    "sc_X = StandardScaler()\r\n",
    "X_train = sc_X.fit_transform(X_train)\r\n",
    "X_test = sc_X.fit_transform(X_test)\r\n",
    "Y_train"
   ],
   "outputs": [
    {
     "output_type": "execute_result",
     "data": {
      "text/plain": [
       "array([0, 1, 1, 1, 0, 1, 0, 0, 1])"
      ]
     },
     "metadata": {},
     "execution_count": 215
    }
   ],
   "metadata": {}
  },
  {
   "cell_type": "code",
   "execution_count": 216,
   "source": [
    "# TO standardscale particular column in a dataset \r\n",
    "\r\n",
    "\r\n",
    "# import pandas as pd\r\n",
    "# data = pd.DataFrame({'Name' : [3, 4,6], 'Age' : [18, 92,98], 'Weight' : [68, 59,49]})\r\n",
    "\r\n",
    "# col_names = ['Name', 'Age', 'Weight']\r\n",
    "# features = data[col_names]\r\n",
    "\r\n",
    "# from sklearn.compose import ColumnTransformer\r\n",
    "# from sklearn.preprocessing import StandardScaler\r\n",
    "\r\n",
    "# ct = ColumnTransformer([\r\n",
    "#         ('somename', StandardScaler(), ['Age', 'Weight'])\r\n",
    "#     ], remainder='passthrough')\r\n",
    "\r\n",
    "# ct.fit_transform(features)"
   ],
   "outputs": [],
   "metadata": {}
  },
  {
   "cell_type": "code",
   "execution_count": 217,
   "source": [
    "# from sklearn.linear_model import LinearRegression\r\n",
    "# regressor  = LinearRegression()\r\n",
    "# regressor.fit(X_train,Y_train)"
   ],
   "outputs": [],
   "metadata": {}
  },
  {
   "cell_type": "code",
   "execution_count": 218,
   "source": [
    "from sklearn.linear_model import LogisticRegression  \r\n",
    "classifier= LogisticRegression(random_state=0)  \r\n",
    "classifier.fit(X_train, Y_train)  "
   ],
   "outputs": [
    {
     "output_type": "execute_result",
     "data": {
      "text/plain": [
       "LogisticRegression(random_state=0)"
      ]
     },
     "metadata": {},
     "execution_count": 218
    }
   ],
   "metadata": {}
  },
  {
   "cell_type": "code",
   "execution_count": 219,
   "source": [
    "y_pred = classifier.predict(X_train) "
   ],
   "outputs": [],
   "metadata": {}
  },
  {
   "cell_type": "code",
   "execution_count": 220,
   "source": [
    "from matplotlib.colors import ListedColormap  \r\n",
    "x_set, y_set = X_train, Y_train  \r\n",
    "x1, x2 = np.meshgrid(np.arange(start = x_set[:, 0].min() - 1, stop = x_set[:, 0].max() + 1, step  =0.01),np.arange(start = x_set[:, 1].min() - 1, stop = x_set[:, 1].max() + 1, step = 0.01))  \r\n",
    "mtp.contourf(x1, x2, classifier.predict(np.array([x1.ravel(), x2.ravel()]).T).reshape(x1.shape), alpha = 0.75, cmap = ListedColormap(('purple','green' ))) \r\n",
    "\r\n",
    "mtp.xlim(x1.min(), x1.max())  \r\n",
    "mtp.ylim(x2.min(), x2.max())  \r\n",
    "for i, j in enumerate(np.unique(y_set)):  \r\n",
    "    mtp.scatter(x_set[y_set == j, 0], x_set[y_set == j, 1],  \r\n",
    "        c = ListedColormap(('purple', 'green'))(i), label = j)  \r\n",
    "mtp.title('Logistic Regression (Training set)')  \r\n",
    "mtp.xlabel('Age')  \r\n",
    "mtp.ylabel('Estimated Salary')  \r\n",
    "mtp.legend()  \r\n",
    "mtp.show()  "
   ],
   "outputs": [
    {
     "output_type": "stream",
     "name": "stderr",
     "text": [
      "*c* argument looks like a single numeric RGB or RGBA sequence, which should be avoided as value-mapping will have precedence in case its length matches with *x* & *y*.  Please use the *color* keyword-argument or provide a 2D array with a single row if you intend to specify the same RGB or RGBA value for all points.\n"
     ]
    },
    {
     "output_type": "display_data",
     "data": {
      "text/plain": [
       "<Figure size 432x288 with 1 Axes>"
      ],
      "image/png": "[encoded data removed]"
     },
     "metadata": {
      "needs_background": "light"
     }
    }
   ],
   "metadata": {}
  },
  {
   "cell_type": "code",
   "execution_count": null,
   "source": [
    "from matplotlib.colors import ListedColormap  \r\n",
    "x_set, y_set = X_train, y_pred  \r\n",
    "x1, x2 = np.meshgrid(np.arange(start = x_set[:, 0].min() - 1, stop = x_set[:, 0].max() + 1, step  =0.01),np.arange(start = x_set[:, 1].min() - 1, stop = x_set[:, 1].max() + 1, step = 0.01))  \r\n",
    "mtp.contourf(x1, x2, classifier.predict(np.array([x1.ravel(), x2.ravel()]).T).reshape(x1.shape), alpha = 0.75, cmap = ListedColormap(('purple','green' ))) \r\n",
    "\r\n",
    "mtp.xlim(x1.min(), x1.max())  \r\n",
    "mtp.ylim(x2.min(), x2.max())  \r\n",
    "for i, j in enumerate(np.unique(y_set)):  \r\n",
    "    mtp.scatter(x_set[y_set == j, 0], x_set[y_set == j, 1],  \r\n",
    "        c = ListedColormap(('purple', 'green'))(i), label = j)  \r\n",
    "mtp.title('Logistic Regression (Training set)')  \r\n",
    "mtp.xlabel('Age')  \r\n",
    "mtp.ylabel('Estimated Salary')  \r\n",
    "mtp.legend()  \r\n",
    "mtp.show()  "
   ],
   "outputs": [],
   "metadata": {}
  }
 ],
 "metadata": {
  "orig_nbformat": 4,
  "language_info": {
   "name": "python",
   "version": "3.9.6",
   "mimetype": "text/x-python",
   "codemirror_mode": {
    "name": "ipython",
    "version": 3
   },
   "pygments_lexer": "ipython3",
   "nbconvert_exporter": "python",
   "file_extension": ".py"
  },
  "kernelspec": {
   "name": "python3",
   "display_name": "Python 3.9.6 64-bit"
  },
  "interpreter": {
   "hash": "aa16eebc24a407bf27ad521d6867b38fcb0dc59326f83deff352e5076124f736"
  }
 },
 "nbformat": 4,
 "nbformat_minor": 2
}